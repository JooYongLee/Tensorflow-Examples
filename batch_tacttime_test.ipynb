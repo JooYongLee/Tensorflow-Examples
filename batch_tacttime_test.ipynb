{
 "cells": [
  {
   "cell_type": "code",
   "execution_count": 1,
   "metadata": {},
   "outputs": [
    {
     "name": "stderr",
     "output_type": "stream",
     "text": [
      "C:\\Users\\Yong\\Anaconda3\\lib\\site-packages\\h5py\\__init__.py:36: FutureWarning: Conversion of the second argument of issubdtype from `float` to `np.floating` is deprecated. In future, it will be treated as `np.float64 == np.dtype(float).type`.\n",
      "  from ._conv import register_converters as _register_converters\n"
     ]
    }
   ],
   "source": [
    "import tensorflow as tf\n",
    "import numpy as np\n"
   ]
  },
  {
   "cell_type": "code",
   "execution_count": 2,
   "metadata": {},
   "outputs": [
    {
     "name": "stdout",
     "output_type": "stream",
     "text": [
      "Tensor(\"conv2d_transpose/BiasAdd:0\", shape=(5, 230, 240, 10), dtype=float32)\n",
      "Tensor(\"conv2d_transpose_1/BiasAdd:0\", shape=(5, 115, 120, 10), dtype=float32)\n"
     ]
    }
   ],
   "source": [
    "tf.reset_default_graph()\n",
    "width = 120\n",
    "height = 115\n",
    "batch = 5\n",
    "ch = 3\n",
    "inputs = tf.constant(np.random.randn(batch, height, width, ch), dtype = tf.float32)\n",
    "\n",
    "up_conv1  = tf.layers.conv2d_transpose( inputs, 10, [3,3], strides =(2,2),padding='same')\n",
    "up_conv2  = tf.layers.conv2d_transpose( inputs, 10, [3,3], strides =(1,1),padding='same')\n",
    "\n",
    "print(up_conv1)\n",
    "print(up_conv2)\n",
    "\n"
   ]
  },
  {
   "cell_type": "code",
   "execution_count": 33,
   "metadata": {},
   "outputs": [
    {
     "name": "stdout",
     "output_type": "stream",
     "text": [
      "(1, 100, 100, 10)\n",
      "single batch , acc_time:3.8250083923339844\n",
      "batch :20 acc_time:2.6825618743896484\n"
     ]
    }
   ],
   "source": [
    "\n",
    "ws = 100\n",
    "hs = 100\n",
    "chs = 10\n",
    "tf.reset_default_graph()\n",
    "net_inputs = tf.placeholder(dtype=tf.float32,shape=[None, hs,ws,chs])\n",
    "\n",
    "nets_conv1 = tf.layers.conv2d(net_inputs,100,[3,3])\n",
    "\n",
    "import time\n",
    "\n",
    "toals_num_samples = 2500\n",
    "samples = np.random.randn(toals_num_samples,hs,ws,chs)\n",
    "print(samples[0:1].shape)\n",
    "with tf.Session() as sess:\n",
    "    sess.run(tf.global_variables_initializer())\n",
    "    \n",
    "    singles_samples_inds = np.arange(toals_num_samples)\n",
    "    \n",
    "#     ttime.time()\n",
    "    start_time = time.time()\n",
    "    for starts, ends in zip(singles_samples_inds[:-1], singles_samples_inds[1:]):\n",
    "#         if starts % 1000==0:\n",
    "#             print(\"{}-{}\".format(starts, ends))\n",
    "        sess.run(nets_conv1,feed_dict={net_inputs:samples[starts:ends]})\n",
    "    end_time = time.time()\n",
    "    print(\"single batch , acc_time:{}\".format(end_time - start_time))\n",
    "    \n",
    "    test_batch = 20\n",
    "    div = toals_num_samples // test_batch\n",
    "    multiple_samples_inds = np.linspace(0,toals_num_samples,div,dtype=np.int)\n",
    "    \n",
    "    start_time = time.time()\n",
    "    for inds, (starts, ends)in enumerate(zip(multiple_samples_inds[:-1], multiple_samples_inds[1:])):\n",
    "\n",
    "#         print(\"{}-{}\".format(starts, ends))\n",
    "        sess.run(nets_conv1,feed_dict={net_inputs:samples[starts:ends]})\n",
    "    end_time = time.time()\n",
    "    print(\"batch :{} acc_time:{}\".format(test_batch, end_time - start_time))\n",
    "    \n",
    "    \n"
   ]
  },
  {
   "cell_type": "code",
   "execution_count": 28,
   "metadata": {},
   "outputs": [
    {
     "name": "stdout",
     "output_type": "stream",
     "text": [
      "[ 0  2  5  8 11]\n"
     ]
    }
   ],
   "source": [
    "print(np.linspace(0,11,5,dtype=np.int))"
   ]
  }
 ],
 "metadata": {
  "kernelspec": {
   "display_name": "Python 3",
   "language": "python",
   "name": "python3"
  },
  "language_info": {
   "codemirror_mode": {
    "name": "ipython",
    "version": 3
   },
   "file_extension": ".py",
   "mimetype": "text/x-python",
   "name": "python",
   "nbconvert_exporter": "python",
   "pygments_lexer": "ipython3",
   "version": "3.6.5"
  }
 },
 "nbformat": 4,
 "nbformat_minor": 2
}
